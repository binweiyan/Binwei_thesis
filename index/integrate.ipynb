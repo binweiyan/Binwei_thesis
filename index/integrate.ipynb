{
 "cells": [
  {
   "cell_type": "code",
   "execution_count": 26,
   "metadata": {},
   "outputs": [
    {
     "name": "stdout",
     "output_type": "stream",
     "text": [
      "1712\n"
     ]
    }
   ],
   "source": [
    "import pickle\n",
    "import pandas as pd\n",
    "import numpy as np\n",
    "cell_connected_gene = pd.read_csv('/home/bineva/mouse.genes_link2cells.txt', header = None)\n",
    "cell_connected_gene[0] = cell_connected_gene[0].str.upper()\n",
    "with open('Merfish_index.pkl', 'rb') as f:\n",
    "    Merfish_index = pickle.load(f)\n",
    "with open('Starmap_index.pkl', 'rb') as f:\n",
    "    Starmap_index = pickle.load(f)\n",
    "\n",
    "total_genes = np.union1d(Merfish_index, Starmap_index)\n",
    "print(len(total_genes))\n",
    "# total_genes = np.union1d(total_genes, cell_connected_gene[0].values)\n",
    "with open('total_genes.pkl', 'wb') as f:\n",
    "    pickle.dump(total_genes, f)"
   ]
  },
  {
   "cell_type": "code",
   "execution_count": 22,
   "metadata": {},
   "outputs": [],
   "source": [
    "with open('imputation_index.pkl', 'rb') as f:\n",
    "    imputation_index = pickle.load(f)\n",
    "with open('Merfish_impute.pkl', 'rb') as f:\n",
    "    Merfish_impute = pickle.load(f)\n"
   ]
  },
  {
   "cell_type": "code",
   "execution_count": 23,
   "metadata": {},
   "outputs": [
    {
     "data": {
      "text/plain": [
       "5000"
      ]
     },
     "execution_count": 23,
     "metadata": {},
     "output_type": "execute_result"
    }
   ],
   "source": [
    "len(Merfish_impute)"
   ]
  },
  {
   "cell_type": "code",
   "execution_count": 25,
   "metadata": {},
   "outputs": [
    {
     "data": {
      "text/plain": [
       "1412"
      ]
     },
     "execution_count": 25,
     "metadata": {},
     "output_type": "execute_result"
    }
   ],
   "source": [
    "len(np.intersect1d(total_genes, [i.upper() for i in imputation_index]))"
   ]
  },
  {
   "cell_type": "code",
   "execution_count": null,
   "metadata": {},
   "outputs": [],
   "source": [
    "#imputation_index to str then to upper\n",
    "imputation_index = \n"
   ]
  },
  {
   "cell_type": "code",
   "execution_count": 15,
   "metadata": {},
   "outputs": [
    {
     "data": {
      "text/plain": [
       "array(['1700013F07RIK', '1700057G04RIK', '1700057H15RIK', ..., 'ZMYM1',\n",
       "       'ZNRF3', 'ZP3'], dtype=object)"
      ]
     },
     "execution_count": 15,
     "metadata": {},
     "output_type": "execute_result"
    }
   ],
   "source": [
    "total_genes"
   ]
  },
  {
   "cell_type": "code",
   "execution_count": 8,
   "metadata": {},
   "outputs": [
    {
     "data": {
      "text/plain": [
       "3404"
      ]
     },
     "execution_count": 8,
     "metadata": {},
     "output_type": "execute_result"
    }
   ],
   "source": [
    "len(total_genes)"
   ]
  }
 ],
 "metadata": {
  "kernelspec": {
   "display_name": "Python 3",
   "language": "python",
   "name": "python3"
  },
  "language_info": {
   "codemirror_mode": {
    "name": "ipython",
    "version": 3
   },
   "file_extension": ".py",
   "mimetype": "text/x-python",
   "name": "python",
   "nbconvert_exporter": "python",
   "pygments_lexer": "ipython3",
   "version": "3.10.12"
  }
 },
 "nbformat": 4,
 "nbformat_minor": 2
}
